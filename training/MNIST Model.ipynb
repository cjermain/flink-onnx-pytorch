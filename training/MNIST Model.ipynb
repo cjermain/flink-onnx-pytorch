{
 "cells": [
  {
   "cell_type": "code",
   "execution_count": 1,
   "id": "10c559a0-e178-412b-9d80-93bbd12cb5ba",
   "metadata": {},
   "outputs": [],
   "source": [
    "%matplotlib inline\n",
    "import matplotlib.pyplot as plt"
   ]
  },
  {
   "cell_type": "code",
   "execution_count": 2,
   "id": "8bfbfacd-af87-4876-982f-8cc27174bdd2",
   "metadata": {},
   "outputs": [],
   "source": [
    "from collections import defaultdict\n",
    "import numpy as np\n",
    "import torch\n",
    "import torch.nn as nn\n",
    "import torchvision\n",
    "from torchvision.transforms import ToTensor"
   ]
  },
  {
   "cell_type": "code",
   "execution_count": 3,
   "id": "fc36f74d-0370-440b-bd44-e01f0fa881ad",
   "metadata": {},
   "outputs": [],
   "source": [
    "# Set the torch seed for deterministic behavior\n",
    "torch.manual_seed(0);"
   ]
  },
  {
   "cell_type": "code",
   "execution_count": 4,
   "id": "ff7a2fe8-2437-464c-ba22-3d520642e5ac",
   "metadata": {},
   "outputs": [],
   "source": [
    "train_data = torchvision.datasets.MNIST(\n",
    "    '/tmp',\n",
    "    train=True,\n",
    "    download=True,\n",
    "    transform=ToTensor()\n",
    ")\n",
    "train_loader = torch.utils.data.DataLoader(\n",
    "    train_data,\n",
    "    batch_size=64,\n",
    "    shuffle=True,\n",
    "    num_workers=4\n",
    ")"
   ]
  },
  {
   "cell_type": "code",
   "execution_count": 5,
   "id": "ce59c008-eca0-4e22-8b22-29f81a236092",
   "metadata": {},
   "outputs": [],
   "source": [
    "test_data = torchvision.datasets.MNIST(\n",
    "    '/tmp',\n",
    "    train=True,\n",
    "    download=True,\n",
    "    transform=ToTensor()\n",
    ")\n",
    "test_loader = torch.utils.data.DataLoader(\n",
    "    test_data,\n",
    "    batch_size=64,\n",
    "    shuffle=True,\n",
    "    num_workers=4\n",
    ")"
   ]
  },
  {
   "cell_type": "code",
   "execution_count": 6,
   "id": "c02fde30-bf01-41d6-abe5-b953b2d3ce6d",
   "metadata": {},
   "outputs": [
    {
     "data": {
      "text/plain": [
       "<matplotlib.image.AxesImage at 0x7f10927e0a90>"
      ]
     },
     "execution_count": 6,
     "metadata": {},
     "output_type": "execute_result"
    },
    {
     "data": {
      "image/png": "[encoded data removed]",
      "text/plain": [
       "<Figure size 432x288 with 1 Axes>"
      ]
     },
     "metadata": {
      "needs_background": "light"
     },
     "output_type": "display_data"
    }
   ],
   "source": [
    "plt.imshow(test_data[0][0].numpy()[0,:,:], cmap='gray')"
   ]
  },
  {
   "cell_type": "code",
   "execution_count": 7,
   "id": "fe0f11ad-8ef4-418e-89f0-010413413505",
   "metadata": {},
   "outputs": [
    {
     "data": {
      "text/plain": [
       "<matplotlib.image.AxesImage at 0x7f1092744df0>"
      ]
     },
     "execution_count": 7,
     "metadata": {},
     "output_type": "execute_result"
    },
    {
     "data": {
      "image/png": "[encoded data removed]",
      "text/plain": [
       "<Figure size 432x288 with 1 Axes>"
      ]
     },
     "metadata": {
      "needs_background": "light"
     },
     "output_type": "display_data"
    }
   ],
   "source": [
    "plt.imshow(test_data[1][0].numpy()[0,:,:], cmap='gray')"
   ]
  },
  {
   "cell_type": "code",
   "execution_count": 8,
   "id": "0160bd5f-8b12-4d9a-8f49-c5cec162357b",
   "metadata": {},
   "outputs": [],
   "source": [
    "test_data[0][0].numpy().flatten().tofile('5.mnist.bin')\n",
    "test_data[1][0].numpy().flatten().tofile('0.mnist.bin')"
   ]
  },
  {
   "cell_type": "code",
   "execution_count": 9,
   "id": "9f5edc09-bb82-48b3-a317-2f60590d7d50",
   "metadata": {},
   "outputs": [],
   "source": [
    "!mv *.mnist.bin ../src/main/resources/"
   ]
  },
  {
   "cell_type": "code",
   "execution_count": 10,
   "id": "3b426cde-d514-4ea6-98f5-a926a30bdd50",
   "metadata": {},
   "outputs": [],
   "source": [
    "class LinearMNIST(nn.Module):\n",
    " \n",
    "    def __init__(self):\n",
    "        super().__init__()\n",
    "        self.linear_stack = nn.Sequential(\n",
    "            nn.Linear(28 * 28, 512),\n",
    "            nn.ReLU(),\n",
    "            nn.Linear(512, 10),\n",
    "            nn.Softmax(dim=1)\n",
    "        )\n",
    "        \n",
    "    def forward(self, x):\n",
    "        x = torch.flatten(x, start_dim=1)\n",
    "        y = self.linear_stack(x)\n",
    "        return y"
   ]
  },
  {
   "cell_type": "code",
   "execution_count": 11,
   "id": "9c89eca6-10ae-4b06-965d-26ad21cc95cd",
   "metadata": {},
   "outputs": [],
   "source": [
    "model = LinearMNIST()"
   ]
  },
  {
   "cell_type": "code",
   "execution_count": 12,
   "id": "e07cb9bc-0285-4dbd-889f-34263f5639a9",
   "metadata": {},
   "outputs": [],
   "source": [
    "learning_rate = 1e-3\n",
    "batch_size = 64\n",
    "epochs = 5"
   ]
  },
  {
   "cell_type": "code",
   "execution_count": 13,
   "id": "e7546c8e-f886-48e9-b3f8-07f20433065d",
   "metadata": {},
   "outputs": [],
   "source": [
    "def train_loop(dataloader, model, loss_fn, optimizer):\n",
    "    size = len(dataloader.dataset)\n",
    "    for batch, (X, y) in enumerate(dataloader):\n",
    "        # Compute prediction and loss\n",
    "        pred = model(X)\n",
    "        loss = loss_fn(pred, y)\n",
    "\n",
    "        # Backpropagation\n",
    "        optimizer.zero_grad()\n",
    "        loss.backward()\n",
    "        optimizer.step()\n",
    "\n",
    "        if batch % 100 == 0:\n",
    "            loss, current = loss.item(), batch * len(X)\n",
    "            print(f\"loss: {loss:>7f}  [{current:>5d}/{size:>5d}]\")\n",
    "\n",
    "\n",
    "def test_loop(dataloader, model, loss_fn):\n",
    "    size = len(dataloader.dataset)\n",
    "    test_loss, correct = 0, 0\n",
    "\n",
    "    with torch.no_grad():\n",
    "        for X, y in dataloader:\n",
    "            pred = model(X)\n",
    "            test_loss += loss_fn(pred, y).item()\n",
    "            correct += (pred.argmax(1) == y).type(torch.float).sum().item()\n",
    "\n",
    "    test_loss /= size\n",
    "    correct /= size\n",
    "    print(f\"Test Error: \\n Accuracy: {(100*correct):>0.1f}%, Avg loss: {test_loss:>8f} \\n\")"
   ]
  },
  {
   "cell_type": "code",
   "execution_count": 14,
   "id": "ac6e1dbd-d5e4-4dce-b47e-569801f46f20",
   "metadata": {},
   "outputs": [
    {
     "name": "stdout",
     "output_type": "stream",
     "text": [
      "Epoch 1\n",
      "-------------------------------\n",
      "loss: 2.300593  [    0/60000]\n",
      "loss: 1.613943  [ 6400/60000]\n",
      "loss: 1.586333  [12800/60000]\n",
      "loss: 1.590376  [19200/60000]\n",
      "loss: 1.573111  [25600/60000]\n",
      "loss: 1.608075  [32000/60000]\n",
      "loss: 1.591978  [38400/60000]\n",
      "loss: 1.513969  [44800/60000]\n",
      "loss: 1.527455  [51200/60000]\n",
      "loss: 1.580671  [57600/60000]\n",
      "Test Error: \n",
      " Accuracy: 94.1%, Avg loss: 0.023849 \n",
      "\n",
      "Epoch 2\n",
      "-------------------------------\n",
      "loss: 1.533464  [    0/60000]\n",
      "loss: 1.533781  [ 6400/60000]\n",
      "loss: 1.497141  [12800/60000]\n",
      "loss: 1.510093  [19200/60000]\n",
      "loss: 1.489342  [25600/60000]\n",
      "loss: 1.487759  [32000/60000]\n",
      "loss: 1.533878  [38400/60000]\n",
      "loss: 1.496870  [44800/60000]\n",
      "loss: 1.502997  [51200/60000]\n",
      "loss: 1.511436  [57600/60000]\n",
      "Test Error: \n",
      " Accuracy: 96.4%, Avg loss: 0.023473 \n",
      "\n",
      "Epoch 3\n",
      "-------------------------------\n",
      "loss: 1.466511  [    0/60000]\n",
      "loss: 1.516493  [ 6400/60000]\n",
      "loss: 1.507017  [12800/60000]\n",
      "loss: 1.477768  [19200/60000]\n",
      "loss: 1.498860  [25600/60000]\n",
      "loss: 1.534850  [32000/60000]\n",
      "loss: 1.475538  [38400/60000]\n",
      "loss: 1.492521  [44800/60000]\n",
      "loss: 1.506383  [51200/60000]\n",
      "loss: 1.495400  [57600/60000]\n",
      "Test Error: \n",
      " Accuracy: 97.3%, Avg loss: 0.023308 \n",
      "\n",
      "Epoch 4\n",
      "-------------------------------\n",
      "loss: 1.495229  [    0/60000]\n",
      "loss: 1.478192  [ 6400/60000]\n",
      "loss: 1.530019  [12800/60000]\n",
      "loss: 1.525730  [19200/60000]\n",
      "loss: 1.461684  [25600/60000]\n",
      "loss: 1.479893  [32000/60000]\n",
      "loss: 1.477323  [38400/60000]\n",
      "loss: 1.491534  [44800/60000]\n",
      "loss: 1.509336  [51200/60000]\n",
      "loss: 1.462319  [57600/60000]\n",
      "Test Error: \n",
      " Accuracy: 97.9%, Avg loss: 0.023203 \n",
      "\n",
      "Epoch 5\n",
      "-------------------------------\n",
      "loss: 1.473798  [    0/60000]\n",
      "loss: 1.481868  [ 6400/60000]\n",
      "loss: 1.479568  [12800/60000]\n",
      "loss: 1.489046  [19200/60000]\n",
      "loss: 1.485274  [25600/60000]\n",
      "loss: 1.503003  [32000/60000]\n",
      "loss: 1.501189  [38400/60000]\n",
      "loss: 1.486743  [44800/60000]\n",
      "loss: 1.468397  [51200/60000]\n",
      "loss: 1.476093  [57600/60000]\n",
      "Test Error: \n",
      " Accuracy: 98.2%, Avg loss: 0.023157 \n",
      "\n",
      "Epoch 6\n",
      "-------------------------------\n",
      "loss: 1.485514  [    0/60000]\n",
      "loss: 1.509447  [ 6400/60000]\n",
      "loss: 1.500317  [12800/60000]\n",
      "loss: 1.477655  [19200/60000]\n",
      "loss: 1.461433  [25600/60000]\n",
      "loss: 1.494387  [32000/60000]\n",
      "loss: 1.496834  [38400/60000]\n",
      "loss: 1.516416  [44800/60000]\n",
      "loss: 1.499406  [51200/60000]\n",
      "loss: 1.477836  [57600/60000]\n",
      "Test Error: \n",
      " Accuracy: 98.5%, Avg loss: 0.023098 \n",
      "\n",
      "Epoch 7\n",
      "-------------------------------\n",
      "loss: 1.477426  [    0/60000]\n",
      "loss: 1.469659  [ 6400/60000]\n",
      "loss: 1.463242  [12800/60000]\n",
      "loss: 1.463617  [19200/60000]\n",
      "loss: 1.497176  [25600/60000]\n",
      "loss: 1.473976  [32000/60000]\n",
      "loss: 1.530201  [38400/60000]\n",
      "loss: 1.491543  [44800/60000]\n",
      "loss: 1.461583  [51200/60000]\n",
      "loss: 1.484636  [57600/60000]\n",
      "Test Error: \n",
      " Accuracy: 98.6%, Avg loss: 0.023075 \n",
      "\n",
      "Epoch 8\n",
      "-------------------------------\n",
      "loss: 1.469275  [    0/60000]\n",
      "loss: 1.472346  [ 6400/60000]\n",
      "loss: 1.475016  [12800/60000]\n",
      "loss: 1.476902  [19200/60000]\n",
      "loss: 1.462929  [25600/60000]\n",
      "loss: 1.496112  [32000/60000]\n",
      "loss: 1.481316  [38400/60000]\n",
      "loss: 1.487520  [44800/60000]\n",
      "loss: 1.478001  [51200/60000]\n",
      "loss: 1.488994  [57600/60000]\n",
      "Test Error: \n",
      " Accuracy: 98.8%, Avg loss: 0.023051 \n",
      "\n",
      "Epoch 9\n",
      "-------------------------------\n",
      "loss: 1.463391  [    0/60000]\n",
      "loss: 1.491408  [ 6400/60000]\n",
      "loss: 1.476874  [12800/60000]\n",
      "loss: 1.463158  [19200/60000]\n",
      "loss: 1.461942  [25600/60000]\n",
      "loss: 1.461518  [32000/60000]\n",
      "loss: 1.463728  [38400/60000]\n",
      "loss: 1.479201  [44800/60000]\n",
      "loss: 1.463128  [51200/60000]\n",
      "loss: 1.461338  [57600/60000]\n",
      "Test Error: \n",
      " Accuracy: 98.9%, Avg loss: 0.023030 \n",
      "\n",
      "Epoch 10\n",
      "-------------------------------\n",
      "loss: 1.488442  [    0/60000]\n",
      "loss: 1.463154  [ 6400/60000]\n",
      "loss: 1.491115  [12800/60000]\n",
      "loss: 1.476404  [19200/60000]\n",
      "loss: 1.463899  [25600/60000]\n",
      "loss: 1.477808  [32000/60000]\n",
      "loss: 1.479558  [38400/60000]\n",
      "loss: 1.478052  [44800/60000]\n",
      "loss: 1.503852  [51200/60000]\n",
      "loss: 1.473328  [57600/60000]\n",
      "Test Error: \n",
      " Accuracy: 98.9%, Avg loss: 0.023028 \n",
      "\n",
      "Done!\n"
     ]
    }
   ],
   "source": [
    "loss_fn = nn.CrossEntropyLoss()\n",
    "optimizer = torch.optim.Adam(model.parameters(), lr=learning_rate)\n",
    "\n",
    "epochs = 10\n",
    "for t in range(epochs):\n",
    "    print(f\"Epoch {t+1}\\n-------------------------------\")\n",
    "    train_loop(train_loader, model, loss_fn, optimizer)\n",
    "    test_loop(test_loader, model, loss_fn)\n",
    "print(\"Done!\")"
   ]
  },
  {
   "cell_type": "code",
   "execution_count": 15,
   "id": "9a17a126-e5f8-4353-a4b5-e545a59ee37d",
   "metadata": {},
   "outputs": [
    {
     "data": {
      "text/plain": [
       "(tensor([[1.3431e-17, 4.0926e-13, 5.2853e-11, 2.7454e-05, 7.5811e-35, 9.9997e-01,\n",
       "          1.1170e-27, 4.5161e-21, 3.1156e-16, 2.5034e-17]],\n",
       "        grad_fn=<SoftmaxBackward>),\n",
       " tensor(5),\n",
       " 5)"
      ]
     },
     "execution_count": 15,
     "metadata": {},
     "output_type": "execute_result"
    }
   ],
   "source": [
    "y_pred = model(test_data[0][0])\n",
    "y_pred, y_pred.argmax(), test_data[0][1]"
   ]
  },
  {
   "cell_type": "code",
   "execution_count": 16,
   "id": "f08e543d-a97b-4e0c-a44c-d8002ca74a96",
   "metadata": {},
   "outputs": [
    {
     "name": "stdout",
     "output_type": "stream",
     "text": [
      "graph(%x : Float(1:1, 28:28, 28:1, requires_grad=0, device=cpu),\n",
      "      %linear_stack.0.weight : Float(512:784, 784:1, requires_grad=1, device=cpu),\n",
      "      %linear_stack.0.bias : Float(512:1, requires_grad=1, device=cpu),\n",
      "      %linear_stack.2.weight : Float(10:512, 512:1, requires_grad=1, device=cpu),\n",
      "      %linear_stack.2.bias : Float(10:1, requires_grad=1, device=cpu)):\n",
      "  %5 : Float(1:784, 784:1, requires_grad=0, device=cpu) = onnx::Flatten[axis=1](%x) # <ipython-input-10-b50a759e7ef0>:13:0\n",
      "  %6 : Float(1:512, 512:1, requires_grad=1, device=cpu) = onnx::Gemm[alpha=1., beta=1., transB=1](%5, %linear_stack.0.weight, %linear_stack.0.bias) # /home/colin/.miniconda3/envs/pytorch/lib/python3.8/site-packages/torch/nn/functional.py:1690:0\n",
      "  %7 : Float(1:512, 512:1, requires_grad=1, device=cpu) = onnx::Relu(%6) # /home/colin/.miniconda3/envs/pytorch/lib/python3.8/site-packages/torch/nn/functional.py:1136:0\n",
      "  %8 : Float(1:10, 10:1, requires_grad=1, device=cpu) = onnx::Gemm[alpha=1., beta=1., transB=1](%7, %linear_stack.2.weight, %linear_stack.2.bias) # /home/colin/.miniconda3/envs/pytorch/lib/python3.8/site-packages/torch/nn/functional.py:1690:0\n",
      "  %output : Float(1:10, 10:1, requires_grad=1, device=cpu) = onnx::Softmax[axis=1](%8) # /home/colin/.miniconda3/envs/pytorch/lib/python3.8/site-packages/torch/nn/functional.py:1512:0\n",
      "  return (%output)\n",
      "\n"
     ]
    }
   ],
   "source": [
    "torch.onnx.export(\n",
    "    model,\n",
    "    (test_data[0][0]),\n",
    "    'linear_mnist.onnx',\n",
    "    verbose=True,\n",
    "    input_names=['x'],\n",
    "    output_names=['output'],\n",
    "    dynamic_axes={\n",
    "        'x': {0: 'batch_size',},\n",
    "        'output': {0: 'batch_size'},\n",
    "    }\n",
    ")"
   ]
  },
  {
   "cell_type": "code",
   "execution_count": 17,
   "id": "1acb8934-1945-4905-9f49-e56844f063fc",
   "metadata": {},
   "outputs": [],
   "source": [
    "!mv linear_mnist.onnx ../src/main/resources/"
   ]
  },
  {
   "cell_type": "code",
   "execution_count": null,
   "id": "a71935db-1b83-4ecf-ad1d-8ef14bff969d",
   "metadata": {},
   "outputs": [],
   "source": []
  }
 ],
 "metadata": {
  "kernelspec": {
   "display_name": "Python [conda env:pytorch]",
   "language": "python",
   "name": "conda-env-pytorch-py"
  },
  "language_info": {
   "codemirror_mode": {
    "name": "ipython",
    "version": 3
   },
   "file_extension": ".py",
   "mimetype": "text/x-python",
   "name": "python",
   "nbconvert_exporter": "python",
   "pygments_lexer": "ipython3",
   "version": "3.8.8"
  }
 },
 "nbformat": 4,
 "nbformat_minor": 5
}
